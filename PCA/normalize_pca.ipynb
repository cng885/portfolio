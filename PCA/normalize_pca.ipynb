{
 "cells": [
  {
   "cell_type": "markdown",
   "metadata": {},
   "source": [
    "# The Importance of Normalizing Features for PCA \n",
    "\n",
    "In this notebook, I run through a quick practical example on the importance of feature scaling when planning to run a principal components procedure(PCA). This notebook assumes some basic understanding of what PCA and singular value decomposition. I quickly learned this lesson as a student working on a project for a class at Virginia Tech. \n",
    "\n",
    "I was working on a project related to opioid overdoses in the state of Ohio from 2011-2015. We were interested in exploring how differences in socioeconomic factors about certain counties related to the opioid usage in that county. To do this, my team planned to perform PCA on the socioeconomic data and perform k-means clustering on the resulting principal components. Then, we would do follow up analysis surrounding the opioid use within the naturally occurring clusters. PCA is useful in this scenario for two main reasons. The first is the socioeconomic data exhibits multicollinearity in our features. Secondly, PCA makes visualizing our Kmeans procedure easier. In this notebook, I present to you the data as I had it and how the failing to normalize my data affected my PCA which would of in turn affected analysis further downstream. So lets go to it.."
   ]
  },
  {
   "cell_type": "markdown",
   "metadata": {},
   "source": [
    "First we will take care of our basic imports and data load. "
   ]
  },
  {
   "cell_type": "code",
   "execution_count": 35,
   "metadata": {},
   "outputs": [],
   "source": [
    "import pandas as pd\n",
    "import os\n",
    "import numpy as np\n",
    "import matplotlib.pyplot as plt\n",
    "\n",
    "df = pd.read_csv(\"data\\data.csv\")\n",
    "\n"
   ]
  },
  {
   "cell_type": "markdown",
   "metadata": {},
   "source": [
    "Let's get ourselves acquainted with the data I was describing above. For simplicity, we only have a data matrix with 3 features in this example. However, since PCA is a dimension reduction technique, we often have many if not hundreds of features we wish to reduce to just a few. Our goal is to reduce our 3 features to 2."
   ]
  },
  {
   "cell_type": "code",
   "execution_count": 8,
   "metadata": {},
   "outputs": [
    {
     "data": {
      "text/html": [
       "<div>\n",
       "<style>\n",
       "    .dataframe thead tr:only-child th {\n",
       "        text-align: right;\n",
       "    }\n",
       "\n",
       "    .dataframe thead th {\n",
       "        text-align: left;\n",
       "    }\n",
       "\n",
       "    .dataframe tbody tr th {\n",
       "        vertical-align: top;\n",
       "    }\n",
       "</style>\n",
       "<table border=\"1\" class=\"dataframe\">\n",
       "  <thead>\n",
       "    <tr style=\"text-align: right;\">\n",
       "      <th></th>\n",
       "      <th>Unnamed: 0</th>\n",
       "      <th>County</th>\n",
       "      <th>Total Deaths</th>\n",
       "      <th>Avg Education</th>\n",
       "      <th>Avg Unemploy</th>\n",
       "      <th>Median HH Income</th>\n",
       "    </tr>\n",
       "  </thead>\n",
       "  <tbody>\n",
       "    <tr>\n",
       "      <th>0</th>\n",
       "      <td>0</td>\n",
       "      <td>MONTGOMERY</td>\n",
       "      <td>239.722687</td>\n",
       "      <td>0.257</td>\n",
       "      <td>7.46</td>\n",
       "      <td>46696</td>\n",
       "    </tr>\n",
       "    <tr>\n",
       "      <th>1</th>\n",
       "      <td>1</td>\n",
       "      <td>BROWN</td>\n",
       "      <td>226.675129</td>\n",
       "      <td>0.121</td>\n",
       "      <td>9.16</td>\n",
       "      <td>47202</td>\n",
       "    </tr>\n",
       "    <tr>\n",
       "      <th>2</th>\n",
       "      <td>2</td>\n",
       "      <td>BUTLER</td>\n",
       "      <td>226.909487</td>\n",
       "      <td>0.284</td>\n",
       "      <td>6.88</td>\n",
       "      <td>58954</td>\n",
       "    </tr>\n",
       "    <tr>\n",
       "      <th>3</th>\n",
       "      <td>3</td>\n",
       "      <td>CLERMONT</td>\n",
       "      <td>223.754713</td>\n",
       "      <td>0.271</td>\n",
       "      <td>6.78</td>\n",
       "      <td>62214</td>\n",
       "    </tr>\n",
       "    <tr>\n",
       "      <th>4</th>\n",
       "      <td>4</td>\n",
       "      <td>ADAMS</td>\n",
       "      <td>199.082797</td>\n",
       "      <td>0.105</td>\n",
       "      <td>11.32</td>\n",
       "      <td>36609</td>\n",
       "    </tr>\n",
       "    <tr>\n",
       "      <th>5</th>\n",
       "      <td>5</td>\n",
       "      <td>CLARK</td>\n",
       "      <td>205.047088</td>\n",
       "      <td>0.181</td>\n",
       "      <td>7.12</td>\n",
       "      <td>47651</td>\n",
       "    </tr>\n",
       "    <tr>\n",
       "      <th>6</th>\n",
       "      <td>6</td>\n",
       "      <td>TRUMBULL</td>\n",
       "      <td>186.182527</td>\n",
       "      <td>0.173</td>\n",
       "      <td>8.56</td>\n",
       "      <td>42831</td>\n",
       "    </tr>\n",
       "    <tr>\n",
       "      <th>7</th>\n",
       "      <td>7</td>\n",
       "      <td>SCIOTO</td>\n",
       "      <td>191.565922</td>\n",
       "      <td>0.144</td>\n",
       "      <td>10.42</td>\n",
       "      <td>37277</td>\n",
       "    </tr>\n",
       "    <tr>\n",
       "      <th>8</th>\n",
       "      <td>8</td>\n",
       "      <td>CLINTON</td>\n",
       "      <td>191.227441</td>\n",
       "      <td>0.158</td>\n",
       "      <td>9.72</td>\n",
       "      <td>47055</td>\n",
       "    </tr>\n",
       "    <tr>\n",
       "      <th>9</th>\n",
       "      <td>9</td>\n",
       "      <td>ROSS</td>\n",
       "      <td>196.995814</td>\n",
       "      <td>0.147</td>\n",
       "      <td>7.76</td>\n",
       "      <td>45615</td>\n",
       "    </tr>\n",
       "  </tbody>\n",
       "</table>\n",
       "</div>"
      ],
      "text/plain": [
       "   Unnamed: 0      County  Total Deaths  Avg Education  Avg Unemploy  \\\n",
       "0           0  MONTGOMERY    239.722687          0.257          7.46   \n",
       "1           1       BROWN    226.675129          0.121          9.16   \n",
       "2           2      BUTLER    226.909487          0.284          6.88   \n",
       "3           3    CLERMONT    223.754713          0.271          6.78   \n",
       "4           4       ADAMS    199.082797          0.105         11.32   \n",
       "5           5       CLARK    205.047088          0.181          7.12   \n",
       "6           6    TRUMBULL    186.182527          0.173          8.56   \n",
       "7           7      SCIOTO    191.565922          0.144         10.42   \n",
       "8           8     CLINTON    191.227441          0.158          9.72   \n",
       "9           9        ROSS    196.995814          0.147          7.76   \n",
       "\n",
       "   Median HH Income  \n",
       "0             46696  \n",
       "1             47202  \n",
       "2             58954  \n",
       "3             62214  \n",
       "4             36609  \n",
       "5             47651  \n",
       "6             42831  \n",
       "7             37277  \n",
       "8             47055  \n",
       "9             45615  "
      ]
     },
     "execution_count": 8,
     "metadata": {},
     "output_type": "execute_result"
    }
   ],
   "source": [
    "df.head(10)"
   ]
  },
  {
   "cell_type": "markdown",
   "metadata": {},
   "source": [
    "The first column is an index that I should of dropped before I exported this data(oh well. I will drop it in a second). So we will ignore that. The total deaths is the total number of opioid overdoes over the timeperiod. 'Avg Education' is the average proportion of the population that held a college degree. 'Avg Unemploy' is the average unemployment rate over the time period. The median household income is the average median household(read: average of the yearly median household incomes) income over the same time.\n",
    "\n",
    "Note that deaths column is not a feature of the model that we wish to build. Only proportion education, average unemployment, and median household income are the features. As I mentioned previously, these features are obviously highly correlated. So PCA is an appropriate and useful technique to use. We will make use of the PCA procedure from sklearn. However, as with most procedures, theres many ways we could tackle this. However, sklearn tends to be the most friendly to practioners. We need to import this and clean up our data and reduce this to our data matrix. The documentation for sklearn PCA can be found [here](http://scikit-learn.org/stable/modules/generated/sklearn.decomposition.PCA.html)"
   ]
  },
  {
   "cell_type": "code",
   "execution_count": 17,
   "metadata": {},
   "outputs": [],
   "source": [
    "from sklearn.decomposition import PCA \n",
    "\n",
    "data_matrix = np.array(df.iloc[:,3:6])\n",
    "pca = PCA() #intialize the PCA procedure, keeping all components. Eventually we will reduce this. \n",
    "pca.fit(data_matrix) #fit to our data\n",
    "X =  pca.transform(data_matrix)"
   ]
  },
  {
   "cell_type": "markdown",
   "metadata": {},
   "source": [
    "We've now executed the PCA procedure on our data. Where $X$ is our new data matrix containing our principal components. It is important we explore how much variation each component."
   ]
  },
  {
   "cell_type": "code",
   "execution_count": 18,
   "metadata": {},
   "outputs": [
    {
     "data": {
      "text/plain": [
       "array([  9.99999989e-01,   1.05484902e-08,   3.42372512e-11])"
      ]
     },
     "execution_count": 18,
     "metadata": {},
     "output_type": "execute_result"
    }
   ],
   "source": [
    "pca.explained_variance_ratio_"
   ]
  },
  {
   "cell_type": "markdown",
   "metadata": {},
   "source": [
    "The cell above should immediately set off red flags. This suggests that we have extreme multicollinearity present. Although it is true that we certainly have a significant amount, not to this extent. The result here essentially suggests that we should only have one feature in our analysis and that this one single principal component will contain almost all of the original information. \n",
    "\n",
    "So where did we go wrong? Take a look at our data set. We see that our 3 features are of significantly different scales. As a result, our matrix is approximately rank 1 and thus rank defficient. We could explore the possibility of using a sparse PCA approach. However, a much easier fix is often simply ensuring that we normalize our data matrix, column wise. We can utilize scikit learn once again and it's preprocessing package. The documentation for this function can be found [here](http://scikit-learn.org/stable/modules/generated/sklearn.preprocessing.normalize.html). By setting the axis parameter to 0, it allows us to normalize each feature independtly. "
   ]
  },
  {
   "cell_type": "code",
   "execution_count": 31,
   "metadata": {},
   "outputs": [
    {
     "data": {
      "text/plain": [
       "array([[ 0.0629163 ,  0.12802904,  0.09711264],\n",
       "       [ 0.14767131,  0.09616155,  0.12129102],\n",
       "       [ 0.14091171,  0.09476385,  0.12799809],\n",
       "       [ 0.05459679,  0.15821929,  0.07531877],\n",
       "       [ 0.09411446,  0.09951602,  0.09803641],\n",
       "       [ 0.08995471,  0.11964286,  0.08811982],\n",
       "       [ 0.0748756 ,  0.14564002,  0.07669311],\n",
       "       [ 0.08215517,  0.13585614,  0.09681021],\n",
       "       [ 0.0764355 ,  0.10846128,  0.09384757]])"
      ]
     },
     "execution_count": 31,
     "metadata": {},
     "output_type": "execute_result"
    }
   ],
   "source": [
    "from sklearn.preprocessing import normalize\n",
    "\n",
    "normed_data = normalize(data_matrix, axis=0)\n",
    "normed_data[1:10,:] #print the first 10 rows of the matrix to get an idea of our data. "
   ]
  },
  {
   "cell_type": "markdown",
   "metadata": {},
   "source": [
    "Now we can rerun our PCA procedure on our new normalized matrix."
   ]
  },
  {
   "cell_type": "code",
   "execution_count": 25,
   "metadata": {},
   "outputs": [
    {
     "data": {
      "text/plain": [
       "array([ 0.82419167,  0.13222084,  0.0435875 ])"
      ]
     },
     "execution_count": 25,
     "metadata": {},
     "output_type": "execute_result"
    }
   ],
   "source": [
    "new_PCA = PCA()\n",
    "new_PCA.fit(normed_data)\n",
    "normed_PCA = new_PCA.transform(normed_data)\n",
    "new_PCA.explained_variance_ratio_"
   ]
  },
  {
   "cell_type": "markdown",
   "metadata": {},
   "source": [
    "We now see that this is a much more acceptable result, and one that would make more sense from our data. We can easily visualize our new data and plot our two principal components in 2 dimensions. Since we only started with 3 features, and we utilize PCA as a dimension reduction technique, taking more than 2 components would not make sense. As I previously stated, the goal of this was to utilize PCA to then run kmeans and visualize the data easily. "
   ]
  },
  {
   "cell_type": "code",
   "execution_count": 37,
   "metadata": {},
   "outputs": [
    {
     "data": {
      "image/png": "[encoded data removed]",
      "text/plain": [
       "<matplotlib.figure.Figure at 0x838a1fa518>"
      ]
     },
     "metadata": {},
     "output_type": "display_data"
    }
   ],
   "source": [
    "#Plot new PCA\n",
    "plt.plot(normed_PCA[:, 0], normed_PCA[:, 1], 'o', markersize=4)\n",
    "plt.xlabel(\"Principal Component 1\")\n",
    "plt.ylabel(\"Principal Component 2\")\n",
    "plt.title(\"Normed PCA w/ 2 Principal Components\")\n",
    "plt.show()"
   ]
  },
  {
   "cell_type": "markdown",
   "metadata": {},
   "source": [
    "We can now run a Kmeans or another analysis we are interested in. As we have seen, it is vital to ensure that your matrix is not rank defficient prior to running PCA. Often times, this is a result from significantly different scale in features and can be corrected by simply normalizing your data matrix column wise. Other times, a sparse matrix PCA procedure should be explored. "
   ]
  }
 ],
 "metadata": {
  "kernelspec": {
   "display_name": "Python 3",
   "language": "python",
   "name": "python3"
  },
  "language_info": {
   "codemirror_mode": {
    "name": "ipython",
    "version": 3
   },
   "file_extension": ".py",
   "mimetype": "text/x-python",
   "name": "python",
   "nbconvert_exporter": "python",
   "pygments_lexer": "ipython3",
   "version": "3.6.2"
  }
 },
 "nbformat": 4,
 "nbformat_minor": 2
}
